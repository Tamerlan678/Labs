{
 "cells": [
  {
   "cell_type": "code",
   "execution_count": null,
   "metadata": {},
   "outputs": [
    {
     "ename": "",
     "evalue": "",
     "output_type": "error",
     "traceback": [
      "\u001b[1;31mRunning cells with 'Python 3.11.7' requires the ipykernel package.\n",
      "\u001b[1;31mRun the following command to install 'ipykernel' into the Python environment. \n",
      "\u001b[1;31mCommand: 'c:/msys64/ucrt64/bin/python.exe -m pip install ipykernel -U --user --force-reinstall'"
     ]
    }
   ],
   "source": [
    "print(\"Hello world!\")"
   ]
  },
  {
   "cell_type": "code",
   "execution_count": null,
   "metadata": {},
   "outputs": [
    {
     "ename": "",
     "evalue": "",
     "output_type": "error",
     "traceback": [
      "\u001b[1;31mRunning cells with 'Python 3.11.7' requires the ipykernel package.\n",
      "\u001b[1;31mRun the following command to install 'ipykernel' into the Python environment. \n",
      "\u001b[1;31mCommand: 'c:/msys64/ucrt64/bin/python.exe -m pip install ipykernel -U --user --force-reinstall'"
     ]
    }
   ],
   "source": [
    "import sys\n",
    "\n",
    "print(sys.version)"
   ]
  },
  {
   "cell_type": "code",
   "execution_count": null,
   "metadata": {},
   "outputs": [],
   "source": [
    "\n",
    "print(sys.version)"
   ]
  },
  {
   "cell_type": "code",
   "execution_count": null,
   "metadata": {},
   "outputs": [],
   "source": [
    "x = 5\n",
    "y = \"Hello, World!\""
   ]
  },
  {
   "cell_type": "code",
   "execution_count": null,
   "metadata": {},
   "outputs": [],
   "source": [
    "#This is a comment.\n",
    "print(\"Hello, World!\")"
   ]
  },
  {
   "cell_type": "code",
   "execution_count": null,
   "metadata": {},
   "outputs": [],
   "source": [
    "if 5 > 2:\n",
    "    print(\"Five is greater than two!\") \n",
    "if 5 > 2:\n",
    "        print(\"Five is greater than two!\") "
   ]
  },
  {
   "cell_type": "code",
   "execution_count": null,
   "metadata": {},
   "outputs": [],
   "source": [
    "#print(\"Hello, World!\")\n",
    "print(\"Cheers, Mate!\")"
   ]
  },
  {
   "cell_type": "code",
   "execution_count": null,
   "metadata": {},
   "outputs": [],
   "source": [
    "#This is a comment\n",
    "#written in\n",
    "#more than just one line\n",
    "print(\"Hello, World!\")"
   ]
  },
  {
   "cell_type": "code",
   "execution_count": null,
   "metadata": {},
   "outputs": [
    {
     "ename": "",
     "evalue": "",
     "output_type": "error",
     "traceback": [
      "\u001b[1;31mRunning cells with 'Python 3.11.7' requires the ipykernel package.\n",
      "\u001b[1;31mRun the following command to install 'ipykernel' into the Python environment. \n",
      "\u001b[1;31mCommand: 'c:/msys64/ucrt64/bin/python.exe -m pip install ipykernel -U --user --force-reinstall'"
     ]
    }
   ],
   "source": [
    "x = 5\n",
    "y = \"apples\"\n",
    "print(x)\n",
    "print(y)"
   ]
  },
  {
   "cell_type": "code",
   "execution_count": null,
   "metadata": {},
   "outputs": [],
   "source": [
    "x = 4       # x is of type int\n",
    "x = \"DAROOOK\" # x is now of type str\n",
    "print(x)"
   ]
  },
  {
   "cell_type": "code",
   "execution_count": null,
   "metadata": {},
   "outputs": [],
   "source": [
    "x = str(3)    # x will be '3'\n",
    "y = int(3)    # y will be 3\n",
    "z = float(3)  # z will be 3.0"
   ]
  },
  {
   "cell_type": "code",
   "execution_count": null,
   "metadata": {},
   "outputs": [],
   "source": [
    "x = 5\n",
    "y = \"Michael Jordan\"\n",
    "print(type(x))\n",
    "print(type(y))"
   ]
  },
  {
   "cell_type": "code",
   "execution_count": null,
   "metadata": {},
   "outputs": [],
   "source": [
    "a = 4\n",
    "A = \"Sally\"\n",
    "#A will not overwrite a"
   ]
  },
  {
   "cell_type": "code",
   "execution_count": null,
   "metadata": {},
   "outputs": [],
   "source": [
    "myvar = \"t\"\n",
    "my_var = \"o\"\n",
    "_my_var = \"k\"\n",
    "myVar = \"a\"\n",
    "MYVAR = \"e\"\n",
    "myvar2 = \"v\""
   ]
  },
  {
   "cell_type": "code",
   "execution_count": null,
   "metadata": {},
   "outputs": [],
   "source": [
    "x, y, z = \"Orange\", \"Banana\", \"Cherry\"\n",
    "print(x)\n",
    "print(y)\n",
    "print(z)"
   ]
  },
  {
   "cell_type": "code",
   "execution_count": null,
   "metadata": {},
   "outputs": [],
   "source": [
    "fruits = [\"apple\", \"banana\", \"cherry\"]\n",
    "x, y, z = fruits\n",
    "print(x)\n",
    "print(y)\n",
    "print(z)"
   ]
  },
  {
   "cell_type": "code",
   "execution_count": null,
   "metadata": {},
   "outputs": [],
   "source": [
    "x = \"Pythin\"\n",
    "y = \"is\"\n",
    "z = \"awesome\"\n",
    "print(x, y, z)"
   ]
  },
  {
   "cell_type": "code",
   "execution_count": null,
   "metadata": {},
   "outputs": [],
   "source": [
    "x = \"awesome\"\n",
    "\n",
    "def myfunc():\n",
    "  print(\"Pythin is \" + x)\n",
    "\n",
    "myfunc()"
   ]
  },
  {
   "cell_type": "code",
   "execution_count": null,
   "metadata": {},
   "outputs": [],
   "source": [
    "def myfunc():\n",
    "  global x\n",
    "  x = \"fantastic\"\n",
    "\n",
    "myfunc()\n",
    "\n",
    "print(\"Pythin is \" + x)"
   ]
  },
  {
   "cell_type": "code",
   "execution_count": null,
   "metadata": {},
   "outputs": [],
   "source": [
    "x = \"Hello World\"\tstr\t\n",
    "x = 20\tint\t\n",
    "x = 20.5\tfloat\t\n",
    "x = 1j\tcomplex\t\n",
    "x = [\"apple\", \"banana\", \"cherry\"]\tlist\t\n",
    "x = (\"apple\", \"banana\", \"cherry\")\ttuple\t\n",
    "x = range(6)\trange\t\n",
    "x = {\"name\" : \"John\", \"age\" : 36}\tdict\t\n",
    "x = {\"apple\", \"banana\", \"cherry\"}\tset\t\n",
    "x = frozenset({\"apple\", \"banana\", \"cherry\"})\tfrozenset\t\n",
    "x = True\tbool\t\n",
    "x = b\"Hello\"\tbytes\t\n",
    "x = bytearray(5)\tbytearray\t\n",
    "x = memoryview(bytes(5))\tmemoryview\t\n",
    "x = None\tNoneType"
   ]
  },
  {
   "cell_type": "code",
   "execution_count": null,
   "metadata": {},
   "outputs": [],
   "source": [
    "x = 1    # int\n",
    "y = 2.8  # float\n",
    "z = 1j   # complex"
   ]
  },
  {
   "cell_type": "code",
   "execution_count": null,
   "metadata": {},
   "outputs": [],
   "source": [
    "\n",
    "x = 1\n",
    "y = 35656222554887711\n",
    "z = -3255522print(type(x))\n",
    "print(type(y))\n",
    "print(type(z))"
   ]
  },
  {
   "cell_type": "code",
   "execution_count": null,
   "metadata": {},
   "outputs": [],
   "source": [
    "x = 1    # int\n",
    "y = 2.8  # float\n",
    "z = 1j   # complex\n",
    "\n",
    "#convert from int to float:\n",
    "a = float(x)\n",
    "\n",
    "#convert from float to int:\n",
    "b = int(y)\n",
    "\n",
    "#convert from int to complex:\n",
    "c = complex(x)\n",
    "\n",
    "print(a)\n",
    "print(b)\n",
    "print(c)\n",
    "\n",
    "print(type(a))\n",
    "print(type(b))\n",
    "print(type(c))"
   ]
  },
  {
   "cell_type": "code",
   "execution_count": null,
   "metadata": {},
   "outputs": [],
   "source": [
    "import random\n",
    "\n",
    "print(random.randrange(1, 10))"
   ]
  },
  {
   "cell_type": "code",
   "execution_count": null,
   "metadata": {},
   "outputs": [],
   "source": [
    "print(\"It's alright\")\n",
    "print(\"He is called 'KASYM-JOMART'\")\n",
    "print('He is called \"KEMELOVICH\"')"
   ]
  },
  {
   "cell_type": "code",
   "execution_count": null,
   "metadata": {},
   "outputs": [],
   "source": [
    "a = \"Hello, World!\"\n",
    "print(a[1])"
   ]
  },
  {
   "cell_type": "code",
   "execution_count": null,
   "metadata": {},
   "outputs": [],
   "source": [
    "for x in \"banana\":\n",
    "    print(x)"
   ]
  },
  {
   "cell_type": "code",
   "execution_count": null,
   "metadata": {},
   "outputs": [],
   "source": [
    "a = \"Hello, World!\"\n",
    "print(len(a))"
   ]
  },
  {
   "cell_type": "code",
   "execution_count": null,
   "metadata": {},
   "outputs": [],
   "source": [
    "txt = \"The best things in life are free!\"\n",
    "print(\"free\" in txt)"
   ]
  },
  {
   "cell_type": "code",
   "execution_count": null,
   "metadata": {},
   "outputs": [],
   "source": [
    "txt = \"The best things in life are free!\"\n",
    "if \"free\" in txt:\n",
    "  print(\"Yes, 'free' is present.\")"
   ]
  },
  {
   "cell_type": "code",
   "execution_count": null,
   "metadata": {},
   "outputs": [],
   "source": [
    "txt = \"The best things in life are free!\"\n",
    "print(\"expensive\" not in txt)"
   ]
  },
  {
   "cell_type": "code",
   "execution_count": null,
   "metadata": {},
   "outputs": [],
   "source": [
    "b = \"Hello, World!\"\n",
    "print(b[:5])"
   ]
  },
  {
   "cell_type": "code",
   "execution_count": null,
   "metadata": {},
   "outputs": [],
   "source": [
    "b = \"Hello, World!\"\n",
    "print(b[2:])"
   ]
  },
  {
   "cell_type": "code",
   "execution_count": null,
   "metadata": {},
   "outputs": [],
   "source": [
    "b = \"Hello, World!\"\n",
    "print(b[-5:-2])"
   ]
  },
  {
   "cell_type": "code",
   "execution_count": null,
   "metadata": {},
   "outputs": [],
   "source": [
    "a = \"Hello, World!\"\n",
    "print(a.upper())"
   ]
  },
  {
   "cell_type": "code",
   "execution_count": null,
   "metadata": {},
   "outputs": [],
   "source": [
    "a = \"Hello, World!\"\n",
    "print(a.lower())"
   ]
  },
  {
   "cell_type": "code",
   "execution_count": null,
   "metadata": {},
   "outputs": [],
   "source": [
    "a = \" Hello, World! \"\n",
    "print(a.strip()) # returns \"Hello, World!\""
   ]
  },
  {
   "cell_type": "code",
   "execution_count": null,
   "metadata": {},
   "outputs": [],
   "source": [
    "a = \"Hello, World!\"\n",
    "print(a.replace(\"H\", \"J\"))"
   ]
  },
  {
   "cell_type": "code",
   "execution_count": null,
   "metadata": {},
   "outputs": [],
   "source": [
    "a = \"Hello, World!\"\n",
    "print(a.split(\",\")) # returns ['Hello', ' World!']"
   ]
  },
  {
   "cell_type": "code",
   "execution_count": null,
   "metadata": {},
   "outputs": [],
   "source": [
    "a = \"Hello\"\n",
    "b = \"World\"\n",
    "c = a + \" \" + b\n",
    "print(c)"
   ]
  },
  {
   "cell_type": "code",
   "execution_count": null,
   "metadata": {},
   "outputs": [],
   "source": [
    "age = 36\n",
    "txt = f\"My name is John, I am {age}\"\n",
    "print(txt)"
   ]
  },
  {
   "cell_type": "code",
   "execution_count": null,
   "metadata": {},
   "outputs": [],
   "source": [
    "txt = f\"The price is {20 * 59} dollars\"\n",
    "print(txt)"
   ]
  },
  {
   "cell_type": "code",
   "execution_count": null,
   "metadata": {},
   "outputs": [],
   "source": [
    "txt = \"We are the so-called \\\"Vikings\\\" from the north.\"\n",
    "print(txt)"
   ]
  },
  {
   "cell_type": "code",
   "execution_count": null,
   "metadata": {},
   "outputs": [],
   "source": [
    "capitalize()\tConverts the first character to upper case\n",
    "casefold()\tConverts string into lower case\n",
    "center()\tReturns a centered string\n",
    "count()\tReturns the number of times a specified value occurs in a string\n",
    "encode()\tReturns an encoded version of the string\n",
    "endswith()\tReturns true if the string ends with the specified value\n",
    "expandtabs()\tSets the tab size of the string\n",
    "find()\tSearches the string for a specified value and returns the position of where it was found\n",
    "format()\tFormats specified values in a string\n",
    "format_map()\tFormats specified values in a string\n",
    "index()\tSearches the string for a specified value and returns the position of where it was found\n",
    "isalnum()\tReturns True if all characters in the string are alphanumeric\n",
    "isalpha()\tReturns True if all characters in the string are in the alphabet\n",
    "isascii()\tReturns True if all characters in the string are ascii characters\n",
    "isdecimal()\tReturns True if all characters in the string are decimals\n",
    "isdigit()\tReturns True if all characters in the string are digits\n",
    "isidentifier()\tReturns True if the string is an identifier\n",
    "islower()\tReturns True if all characters in the string are lower case\n",
    "isnumeric()\tReturns True if all characters in the string are numeric\n",
    "isprintable()\tReturns True if all characters in the string are printable\n",
    "isspace()\tReturns True if all characters in the string are whitespaces\n",
    "istitle()\tReturns True if the string follows the rules of a title\n",
    "isupper()\tReturns True if all characters in the string are upper case\n",
    "join()\tJoins the elements of an iterable to the end of the string\n",
    "ljust()\tReturns a left justified version of the string\n",
    "lower()\tConverts a string into lower case\n",
    "lstrip()\tReturns a left trim version of the string\n",
    "maketrans()\tReturns a translation table to be used in translations\n",
    "partition()\tReturns a tuple where the string is parted into three parts\n",
    "replace()\tReturns a string where a specified value is replaced with a specified value\n",
    "rfind()\tSearches the string for a specified value and returns the last position of where it was found\n",
    "rindex()\tSearches the string for a specified value and returns the last position of where it was found\n",
    "rjust()\tReturns a right justified version of the string\n",
    "rpartition()\tReturns a tuple where the string is parted into three parts\n",
    "rsplit()\tSplits the string at the specified separator, and returns a list\n",
    "rstrip()\tReturns a right trim version of the string\n",
    "split()\tSplits the string at the specified separator, and returns a list\n",
    "splitlines()\tSplits the string at line breaks and returns a list\n",
    "startswith()\tReturns true if the string starts with the specified value\n",
    "strip()\tReturns a trimmed version of the string\n",
    "swapcase()\tSwaps cases, lower case becomes upper case and vice versa\n",
    "title()\tConverts the first character of each word to upper case\n",
    "translate()\tReturns a translated string\n",
    "upper()\tConverts a string into upper case\n",
    "zfill()\tFills the string with a specified number of 0 values at the beginning"
   ]
  }
 ],
 "metadata": {
  "kernelspec": {
   "display_name": "Python 3",
   "language": "python",
   "name": "python3"
  },
  "language_info": {
   "name": "python",
   "version": "3.11.7"
  }
 },
 "nbformat": 4,
 "nbformat_minor": 2
}
